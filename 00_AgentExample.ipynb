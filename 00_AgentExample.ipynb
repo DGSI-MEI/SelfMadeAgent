{
  "cells": [
    {
      "cell_type": "markdown",
      "id": "9690ac72-5d95-4cbf-875a-ae0e835593c9",
      "metadata": {
        "id": "9690ac72-5d95-4cbf-875a-ae0e835593c9"
      },
      "source": [
        "# Lección 1: Programando un agente ReAct (Reason+Act) desde cero"
      ]
    },
    {
      "cell_type": "code",
      "execution_count": null,
      "id": "83588e70-254f-4f83-a510-c8ae81e729b0",
      "metadata": {
        "height": 30,
        "id": "83588e70-254f-4f83-a510-c8ae81e729b0"
      },
      "outputs": [],
      "source": [
        "# basado en https://til.simonwillison.net/llms/python-react-pattern"
      ]
    },
    {
      "cell_type": "code",
      "execution_count": null,
      "id": "bnxTXovtiP6_",
      "metadata": {
        "colab": {
          "base_uri": "https://localhost:8080/"
        },
        "executionInfo": {
          "elapsed": 3313,
          "status": "ok",
          "timestamp": 1745855494990,
          "user": {
            "displayName": "Juanan Pereira",
            "userId": "15113572282444505828"
          },
          "user_tz": -120
        },
        "id": "bnxTXovtiP6_",
        "outputId": "fe871304-d802-46f4-cd68-338c4d5add75"
      },
      "outputs": [
        {
          "name": "stdout",
          "output_type": "stream",
          "text": [
            "Requirement already satisfied: python-dotenv in /usr/local/lib/python3.11/dist-packages (1.1.0)\n",
            "Requirement already satisfied: openai in /usr/local/lib/python3.11/dist-packages (1.75.0)\n",
            "Requirement already satisfied: httpx in /usr/local/lib/python3.11/dist-packages (0.28.1)\n",
            "Requirement already satisfied: anyio<5,>=3.5.0 in /usr/local/lib/python3.11/dist-packages (from openai) (4.9.0)\n",
            "Requirement already satisfied: distro<2,>=1.7.0 in /usr/local/lib/python3.11/dist-packages (from openai) (1.9.0)\n",
            "Requirement already satisfied: jiter<1,>=0.4.0 in /usr/local/lib/python3.11/dist-packages (from openai) (0.9.0)\n",
            "Requirement already satisfied: pydantic<3,>=1.9.0 in /usr/local/lib/python3.11/dist-packages (from openai) (2.11.3)\n",
            "Requirement already satisfied: sniffio in /usr/local/lib/python3.11/dist-packages (from openai) (1.3.1)\n",
            "Requirement already satisfied: tqdm>4 in /usr/local/lib/python3.11/dist-packages (from openai) (4.67.1)\n",
            "Requirement already satisfied: typing-extensions<5,>=4.11 in /usr/local/lib/python3.11/dist-packages (from openai) (4.13.2)\n",
            "Requirement already satisfied: certifi in /usr/local/lib/python3.11/dist-packages (from httpx) (2025.1.31)\n",
            "Requirement already satisfied: httpcore==1.* in /usr/local/lib/python3.11/dist-packages (from httpx) (1.0.8)\n",
            "Requirement already satisfied: idna in /usr/local/lib/python3.11/dist-packages (from httpx) (3.10)\n",
            "Requirement already satisfied: h11<0.15,>=0.13 in /usr/local/lib/python3.11/dist-packages (from httpcore==1.*->httpx) (0.14.0)\n",
            "Requirement already satisfied: annotated-types>=0.6.0 in /usr/local/lib/python3.11/dist-packages (from pydantic<3,>=1.9.0->openai) (0.7.0)\n",
            "Requirement already satisfied: pydantic-core==2.33.1 in /usr/local/lib/python3.11/dist-packages (from pydantic<3,>=1.9.0->openai) (2.33.1)\n",
            "Requirement already satisfied: typing-inspection>=0.4.0 in /usr/local/lib/python3.11/dist-packages (from pydantic<3,>=1.9.0->openai) (0.4.0)\n"
          ]
        }
      ],
      "source": [
        "!pip install python-dotenv openai httpx"
      ]
    },
    {
      "cell_type": "code",
      "execution_count": null,
      "id": "6cb3ef4c-58b3-401b-b104-0d51e553d982",
      "metadata": {
        "height": 149,
        "id": "6cb3ef4c-58b3-401b-b104-0d51e553d982"
      },
      "outputs": [],
      "source": [
        "import openai\n",
        "import re\n",
        "import httpx\n",
        "import os\n",
        "from google.colab import userdata\n",
        "os.environ['OPENAI_API_KEY'] = userdata.get('OPENAI_API_KEY')\n",
        "\n",
        "from openai import OpenAI"
      ]
    },
    {
      "cell_type": "code",
      "execution_count": null,
      "id": "dc3293b7-a50c-43c8-a022-8975e1e444b8",
      "metadata": {
        "height": 30,
        "id": "dc3293b7-a50c-43c8-a022-8975e1e444b8"
      },
      "outputs": [],
      "source": [
        "client = OpenAI()"
      ]
    },
    {
      "cell_type": "code",
      "execution_count": null,
      "id": "0722c3d4-4cbf-43bf-81b0-50f634c4ce61",
      "metadata": {
        "height": 81,
        "id": "0722c3d4-4cbf-43bf-81b0-50f634c4ce61"
      },
      "outputs": [],
      "source": [
        "chat_completion = client.chat.completions.create(\n",
        "    model=\"gpt-4o-mini\",\n",
        "    messages=[{\"role\": \"user\", \"content\": \"Who are you?\"}]\n",
        ")"
      ]
    },
    {
      "cell_type": "code",
      "execution_count": null,
      "id": "6b2f82fe-3ec4-4917-be51-9fb10d1317fa",
      "metadata": {
        "colab": {
          "base_uri": "https://localhost:8080/",
          "height": 35
        },
        "executionInfo": {
          "elapsed": 6,
          "status": "ok",
          "timestamp": 1745855594030,
          "user": {
            "displayName": "Juanan Pereira",
            "userId": "15113572282444505828"
          },
          "user_tz": -120
        },
        "height": 30,
        "id": "6b2f82fe-3ec4-4917-be51-9fb10d1317fa",
        "outputId": "640b1d6b-2bd9-4dd7-b8b4-b8b6d8d896a8"
      },
      "outputs": [
        {
          "data": {
            "application/vnd.google.colaboratory.intrinsic+json": {
              "type": "string"
            },
            "text/plain": [
              "'I am an AI language model created by OpenAI, designed to assist with a variety of inquiries by providing information, answering questions, and engaging in conversation. How can I help you today?'"
            ]
          },
          "execution_count": 7,
          "metadata": {},
          "output_type": "execute_result"
        }
      ],
      "source": [
        "chat_completion.choices[0].message.content"
      ]
    },
    {
      "cell_type": "code",
      "execution_count": null,
      "id": "ee0fe1c7-77e2-499c-a2f9-1f739bb6ddf0",
      "metadata": {
        "height": 387,
        "id": "ee0fe1c7-77e2-499c-a2f9-1f739bb6ddf0"
      },
      "outputs": [],
      "source": [
        "class Agent:\n",
        "    def __init__(self, system=\"\"):\n",
        "        self.system = system\n",
        "        self.messages = []\n",
        "        if self.system:\n",
        "            self.messages.append({\"role\": \"system\", \"content\": system})\n",
        "\n",
        "    def __call__(self, message):\n",
        "        self.messages.append({\"role\": \"user\", \"content\": message})\n",
        "        result = self.execute()\n",
        "        self.messages.append({\"role\": \"assistant\", \"content\": result})\n",
        "        return result\n",
        "\n",
        "    def execute(self):\n",
        "        completion = client.chat.completions.create(\n",
        "                        model=\"gpt-4o\",\n",
        "                        temperature=0,\n",
        "                        messages=self.messages)\n",
        "        return completion.choices[0].message.content\n"
      ]
    },
    {
      "cell_type": "code",
      "execution_count": null,
      "id": "98f303b1-a4d0-408c-8cc0-515ff980717f",
      "metadata": {
        "height": 557,
        "id": "98f303b1-a4d0-408c-8cc0-515ff980717f"
      },
      "outputs": [],
      "source": [
        "prompt = \"\"\"\n",
        "You run in a loop of Thought, Action, PAUSE, Observation.\n",
        "At the end of the loop you output an Answer\n",
        "Use Thought to describe your thoughts about the question you have been asked.\n",
        "Use Action to run one of the actions available to you - then return PAUSE.\n",
        "Observation will be the result of running those actions.\n",
        "\n",
        "Your available actions are:\n",
        "\n",
        "calculate:\n",
        "e.g. calculate: 4 * 7 / 3\n",
        "Runs a calculation and returns the number - uses Python so be sure to use floating point syntax if necessary\n",
        "\n",
        "average_dog_weight:\n",
        "e.g. average_dog_weight: Collie\n",
        "returns average weight of a dog when given the breed\n",
        "\n",
        "Example session:\n",
        "\n",
        "Question: How much does a Bulldog weigh?\n",
        "Thought: I should look the dogs weight using average_dog_weight\n",
        "Action: average_dog_weight: Bulldog\n",
        "PAUSE\n",
        "\n",
        "You will be called again with this:\n",
        "\n",
        "Observation: A Bulldog weights 10 kg\n",
        "\n",
        "You then output:\n",
        "\n",
        "Answer: A bulldog weights 10 kg\n",
        "\"\"\".strip()"
      ]
    },
    {
      "cell_type": "code",
      "execution_count": null,
      "id": "bf4dcb93-6298-4cfd-b3ce-61dfac7fb35f",
      "metadata": {
        "height": 302,
        "id": "bf4dcb93-6298-4cfd-b3ce-61dfac7fb35f"
      },
      "outputs": [],
      "source": [
        "def calculate(what):\n",
        "    return eval(what)\n",
        "\n",
        "def average_dog_weight(name):\n",
        "    if name in \"Scottish Terrier\":\n",
        "        return(\"Scottish Terriers average 9 kg\")\n",
        "    elif name in \"Border Collie\":\n",
        "        return(\"a Border Collies average weight is 16 kg\")\n",
        "    elif name in \"Toy Poodle\":\n",
        "        return(\"a toy poodles average weight is 3 kg\")\n",
        "    else:\n",
        "        return(\"An average dog weights 20 kg\")\n",
        "\n",
        "known_actions = {\n",
        "    \"calculate\": calculate,\n",
        "    \"average_dog_weight\": average_dog_weight\n",
        "}"
      ]
    },
    {
      "cell_type": "code",
      "execution_count": null,
      "id": "932883a4-c722-42bb-aec0-b4f41c5c81a4",
      "metadata": {
        "height": 30,
        "id": "932883a4-c722-42bb-aec0-b4f41c5c81a4"
      },
      "outputs": [],
      "source": [
        "abot = Agent(prompt)"
      ]
    },
    {
      "cell_type": "code",
      "execution_count": null,
      "id": "ff362f49-dcf1-4ea1-a86c-e516e9ab897d",
      "metadata": {
        "colab": {
          "base_uri": "https://localhost:8080/"
        },
        "executionInfo": {
          "elapsed": 1365,
          "status": "ok",
          "timestamp": 1745856001276,
          "user": {
            "displayName": "Juanan Pereira",
            "userId": "15113572282444505828"
          },
          "user_tz": -120
        },
        "height": 47,
        "id": "ff362f49-dcf1-4ea1-a86c-e516e9ab897d",
        "outputId": "f5b727b2-1e5e-4e5e-b1ac-ffaae6b66e60"
      },
      "outputs": [
        {
          "name": "stdout",
          "output_type": "stream",
          "text": [
            "Thought: I should look up the average weight of a Toy Poodle using the average_dog_weight action.\n",
            "Action: average_dog_weight: Toy Poodle\n",
            "PAUSE\n"
          ]
        }
      ],
      "source": [
        "result = abot(\"How much does a toy poodle weigh?\")\n",
        "print(result)"
      ]
    },
    {
      "cell_type": "code",
      "execution_count": null,
      "id": "a7e15a20-83d7-434c-8551-bce8dcc32be0",
      "metadata": {
        "height": 30,
        "id": "a7e15a20-83d7-434c-8551-bce8dcc32be0"
      },
      "outputs": [],
      "source": [
        "result = average_dog_weight(\"Toy Poodle\")"
      ]
    },
    {
      "cell_type": "code",
      "execution_count": null,
      "id": "54ab2c74-f32e-490c-a85d-932d11444210",
      "metadata": {
        "colab": {
          "base_uri": "https://localhost:8080/",
          "height": 35
        },
        "executionInfo": {
          "elapsed": 5,
          "status": "ok",
          "timestamp": 1745856035636,
          "user": {
            "displayName": "Juanan Pereira",
            "userId": "15113572282444505828"
          },
          "user_tz": -120
        },
        "height": 30,
        "id": "54ab2c74-f32e-490c-a85d-932d11444210",
        "outputId": "165b477c-113c-4075-b454-4faa74e3354b"
      },
      "outputs": [
        {
          "data": {
            "application/vnd.google.colaboratory.intrinsic+json": {
              "type": "string"
            },
            "text/plain": [
              "'a toy poodles average weight is 3 kg'"
            ]
          },
          "execution_count": 15,
          "metadata": {},
          "output_type": "execute_result"
        }
      ],
      "source": [
        "result"
      ]
    },
    {
      "cell_type": "code",
      "execution_count": null,
      "id": "a833d3ce-bd31-4319-811d-decff226b970",
      "metadata": {
        "colab": {
          "base_uri": "https://localhost:8080/",
          "height": 35
        },
        "executionInfo": {
          "elapsed": 16,
          "status": "ok",
          "timestamp": 1745856055210,
          "user": {
            "displayName": "Juanan Pereira",
            "userId": "15113572282444505828"
          },
          "user_tz": -120
        },
        "height": 30,
        "id": "a833d3ce-bd31-4319-811d-decff226b970",
        "outputId": "f80d2aa5-7a22-4ebf-f4a4-339d83dd9725"
      },
      "outputs": [
        {
          "data": {
            "application/vnd.google.colaboratory.intrinsic+json": {
              "type": "string"
            },
            "text/plain": [
              "'Observation: a toy poodles average weight is 3 kg'"
            ]
          },
          "execution_count": 17,
          "metadata": {},
          "output_type": "execute_result"
        }
      ],
      "source": [
        "next_prompt = \"Observation: {}\".format(result)"
      ]
    },
    {
      "cell_type": "code",
      "execution_count": null,
      "id": "76e93cce-6eab-4c7c-ac64-e9993fdb30d6",
      "metadata": {
        "colab": {
          "base_uri": "https://localhost:8080/",
          "height": 35
        },
        "executionInfo": {
          "elapsed": 816,
          "status": "ok",
          "timestamp": 1745856076896,
          "user": {
            "displayName": "Juanan Pereira",
            "userId": "15113572282444505828"
          },
          "user_tz": -120
        },
        "height": 30,
        "id": "76e93cce-6eab-4c7c-ac64-e9993fdb30d6",
        "outputId": "f5fd80e7-784a-43bf-894a-bf86eb5669e8"
      },
      "outputs": [
        {
          "data": {
            "application/vnd.google.colaboratory.intrinsic+json": {
              "type": "string"
            },
            "text/plain": [
              "'Answer: A Toy Poodle weighs on average 3 kg.'"
            ]
          },
          "execution_count": 18,
          "metadata": {},
          "output_type": "execute_result"
        }
      ],
      "source": [
        "abot(next_prompt)"
      ]
    },
    {
      "cell_type": "code",
      "execution_count": null,
      "id": "fd2d0990-a932-423f-9ff3-5cada58c5f32",
      "metadata": {
        "colab": {
          "base_uri": "https://localhost:8080/"
        },
        "executionInfo": {
          "elapsed": 9,
          "status": "ok",
          "timestamp": 1745856095069,
          "user": {
            "displayName": "Juanan Pereira",
            "userId": "15113572282444505828"
          },
          "user_tz": -120
        },
        "height": 30,
        "id": "fd2d0990-a932-423f-9ff3-5cada58c5f32",
        "outputId": "6d4bf3d9-8080-4c60-eabf-bed1bc78d43f"
      },
      "outputs": [
        {
          "data": {
            "text/plain": [
              "[{'role': 'system',\n",
              "  'content': 'You run in a loop of Thought, Action, PAUSE, Observation.\\nAt the end of the loop you output an Answer\\nUse Thought to describe your thoughts about the question you have been asked.\\nUse Action to run one of the actions available to you - then return PAUSE.\\nObservation will be the result of running those actions.\\n\\nYour available actions are:\\n\\ncalculate:\\ne.g. calculate: 4 * 7 / 3\\nRuns a calculation and returns the number - uses Python so be sure to use floating point syntax if necessary\\n\\naverage_dog_weight:\\ne.g. average_dog_weight: Collie\\nreturns average weight of a dog when given the breed\\n\\nExample session:\\n\\nQuestion: How much does a Bulldog weigh?\\nThought: I should look the dogs weight using average_dog_weight\\nAction: average_dog_weight: Bulldog\\nPAUSE\\n\\nYou will be called again with this:\\n\\nObservation: A Bulldog weights 10 kg\\n\\nYou then output:\\n\\nAnswer: A bulldog weights 10 kg'},\n",
              " {'role': 'user', 'content': 'How much does a toy poodle weigh?'},\n",
              " {'role': 'assistant',\n",
              "  'content': 'Thought: I should look up the average weight of a Toy Poodle using the average_dog_weight action.\\nAction: average_dog_weight: Toy Poodle\\nPAUSE'},\n",
              " {'role': 'user',\n",
              "  'content': 'Observation: a toy poodles average weight is 3 kg'},\n",
              " {'role': 'assistant',\n",
              "  'content': 'Answer: A Toy Poodle weighs on average 3 kg.'}]"
            ]
          },
          "execution_count": 19,
          "metadata": {},
          "output_type": "execute_result"
        }
      ],
      "source": [
        "abot.messages"
      ]
    },
    {
      "cell_type": "code",
      "execution_count": null,
      "id": "27cde654-64e2-48bc-80a9-0ed668ccb7dc",
      "metadata": {
        "height": 30,
        "id": "27cde654-64e2-48bc-80a9-0ed668ccb7dc"
      },
      "outputs": [],
      "source": [
        "abot = Agent(prompt)"
      ]
    },
    {
      "cell_type": "code",
      "execution_count": null,
      "id": "4871f644-b131-4065-b7ce-b82c20a41f11",
      "metadata": {
        "colab": {
          "base_uri": "https://localhost:8080/",
          "height": 35
        },
        "executionInfo": {
          "elapsed": 1746,
          "status": "ok",
          "timestamp": 1745856173590,
          "user": {
            "displayName": "Juanan Pereira",
            "userId": "15113572282444505828"
          },
          "user_tz": -120
        },
        "height": 64,
        "id": "4871f644-b131-4065-b7ce-b82c20a41f11",
        "outputId": "a0ec0653-0569-48bf-8ff7-787a65ca697a"
      },
      "outputs": [
        {
          "data": {
            "application/vnd.google.colaboratory.intrinsic+json": {
              "type": "string"
            },
            "text/plain": [
              "'Thought: I need to find the average weight of both a Border Collie and a Scottish Terrier, then add them together to find the combined weight.\\nAction: average_dog_weight: Border Collie\\nPAUSE'"
            ]
          },
          "execution_count": 21,
          "metadata": {},
          "output_type": "execute_result"
        }
      ],
      "source": [
        "question = \"\"\"I have 2 dogs, a border collie and a scottish terrier. \\\n",
        "What is their combined weight\"\"\"\n",
        "abot(question)"
      ]
    },
    {
      "cell_type": "code",
      "execution_count": null,
      "id": "8c3d8070-3f36-4cf0-a677-508e54359c8f",
      "metadata": {
        "colab": {
          "base_uri": "https://localhost:8080/"
        },
        "executionInfo": {
          "elapsed": 6,
          "status": "ok",
          "timestamp": 1745856201774,
          "user": {
            "displayName": "Juanan Pereira",
            "userId": "15113572282444505828"
          },
          "user_tz": -120
        },
        "height": 47,
        "id": "8c3d8070-3f36-4cf0-a677-508e54359c8f",
        "outputId": "ed8f80e4-38d2-4d11-cae9-f07fb76505a2"
      },
      "outputs": [
        {
          "name": "stdout",
          "output_type": "stream",
          "text": [
            "Observation: a Border Collies average weight is 16 kg\n"
          ]
        }
      ],
      "source": [
        "next_prompt = \"Observation: {}\".format(average_dog_weight(\"Border Collie\"))\n",
        "print(next_prompt)"
      ]
    },
    {
      "cell_type": "code",
      "execution_count": null,
      "id": "98f3be1d-cc4c-41fa-9863-3e386e88e305",
      "metadata": {
        "colab": {
          "base_uri": "https://localhost:8080/",
          "height": 35
        },
        "executionInfo": {
          "elapsed": 713,
          "status": "ok",
          "timestamp": 1745856231982,
          "user": {
            "displayName": "Juanan Pereira",
            "userId": "15113572282444505828"
          },
          "user_tz": -120
        },
        "height": 30,
        "id": "98f3be1d-cc4c-41fa-9863-3e386e88e305",
        "outputId": "02c126aa-208f-4e7f-9942-3849576cc9d0"
      },
      "outputs": [
        {
          "data": {
            "application/vnd.google.colaboratory.intrinsic+json": {
              "type": "string"
            },
            "text/plain": [
              "'Action: average_dog_weight: Scottish Terrier\\nPAUSE'"
            ]
          },
          "execution_count": 23,
          "metadata": {},
          "output_type": "execute_result"
        }
      ],
      "source": [
        "abot(next_prompt)"
      ]
    },
    {
      "cell_type": "code",
      "execution_count": null,
      "id": "0ad8a6cc-65d4-4ce7-87aa-4e67d7c23d7b",
      "metadata": {
        "colab": {
          "base_uri": "https://localhost:8080/"
        },
        "executionInfo": {
          "elapsed": 5,
          "status": "ok",
          "timestamp": 1745856252297,
          "user": {
            "displayName": "Juanan Pereira",
            "userId": "15113572282444505828"
          },
          "user_tz": -120
        },
        "height": 47,
        "id": "0ad8a6cc-65d4-4ce7-87aa-4e67d7c23d7b",
        "outputId": "4c675090-4412-4d3b-a218-103732f2509b"
      },
      "outputs": [
        {
          "name": "stdout",
          "output_type": "stream",
          "text": [
            "Observation: Scottish Terriers average 9 kg\n"
          ]
        }
      ],
      "source": [
        "next_prompt = \"Observation: {}\".format(average_dog_weight(\"Scottish Terrier\"))\n",
        "print(next_prompt)"
      ]
    },
    {
      "cell_type": "code",
      "execution_count": null,
      "id": "592b5e62-a203-433c-92a0-3783f490cde1",
      "metadata": {
        "colab": {
          "base_uri": "https://localhost:8080/",
          "height": 35
        },
        "executionInfo": {
          "elapsed": 1544,
          "status": "ok",
          "timestamp": 1745856259048,
          "user": {
            "displayName": "Juanan Pereira",
            "userId": "15113572282444505828"
          },
          "user_tz": -120
        },
        "height": 30,
        "id": "592b5e62-a203-433c-92a0-3783f490cde1",
        "outputId": "07ae8feb-3ef5-4d8d-f68e-ad13cd153ad7"
      },
      "outputs": [
        {
          "data": {
            "application/vnd.google.colaboratory.intrinsic+json": {
              "type": "string"
            },
            "text/plain": [
              "'Thought: Now that I have the average weights of both the Border Collie and the Scottish Terrier, I can calculate their combined weight.\\nAction: calculate: 16 + 9\\nPAUSE'"
            ]
          },
          "execution_count": 25,
          "metadata": {},
          "output_type": "execute_result"
        }
      ],
      "source": [
        "abot(next_prompt)"
      ]
    },
    {
      "cell_type": "code",
      "execution_count": null,
      "id": "MGcjIy3UKGdz",
      "metadata": {
        "id": "MGcjIy3UKGdz"
      },
      "outputs": [],
      "source": []
    },
    {
      "cell_type": "code",
      "execution_count": null,
      "id": "14fa923c-7e4f-42d1-965f-0f8ccd50fbd7",
      "metadata": {
        "colab": {
          "base_uri": "https://localhost:8080/"
        },
        "executionInfo": {
          "elapsed": 6,
          "status": "ok",
          "timestamp": 1745856289099,
          "user": {
            "displayName": "Juanan Pereira",
            "userId": "15113572282444505828"
          },
          "user_tz": -120
        },
        "height": 47,
        "id": "14fa923c-7e4f-42d1-965f-0f8ccd50fbd7",
        "outputId": "ab7b201a-dee3-48d0-d873-02de234b4022"
      },
      "outputs": [
        {
          "name": "stdout",
          "output_type": "stream",
          "text": [
            "Observation: 25\n"
          ]
        }
      ],
      "source": [
        "next_prompt = \"Observation: {}\".format(calculate(\"16 + 9\"))\n",
        "print(next_prompt)"
      ]
    },
    {
      "cell_type": "code",
      "execution_count": null,
      "id": "570c6245-2837-4ac5-983b-95f61f3ac10d",
      "metadata": {
        "colab": {
          "base_uri": "https://localhost:8080/",
          "height": 35
        },
        "executionInfo": {
          "elapsed": 766,
          "status": "ok",
          "timestamp": 1745856295792,
          "user": {
            "displayName": "Juanan Pereira",
            "userId": "15113572282444505828"
          },
          "user_tz": -120
        },
        "height": 30,
        "id": "570c6245-2837-4ac5-983b-95f61f3ac10d",
        "outputId": "2ddc0b4a-5998-44e5-b0c0-e57121f2e94f"
      },
      "outputs": [
        {
          "data": {
            "application/vnd.google.colaboratory.intrinsic+json": {
              "type": "string"
            },
            "text/plain": [
              "'Answer: The combined average weight of a Border Collie and a Scottish Terrier is 25 kg.'"
            ]
          },
          "execution_count": 27,
          "metadata": {},
          "output_type": "execute_result"
        }
      ],
      "source": [
        "abot(next_prompt)"
      ]
    },
    {
      "cell_type": "markdown",
      "id": "6b46f2ac-f717-4ab9-b548-f34b74071d76",
      "metadata": {
        "id": "6b46f2ac-f717-4ab9-b548-f34b74071d76"
      },
      "source": [
        "### Add loop"
      ]
    },
    {
      "cell_type": "code",
      "execution_count": null,
      "id": "6b910915-b087-4d35-afff-0ec30a5852f1",
      "metadata": {
        "height": 30,
        "id": "6b910915-b087-4d35-afff-0ec30a5852f1"
      },
      "outputs": [],
      "source": [
        "action_re = re.compile('^Action: (\\w+): (.*)$')   # python regular expression to selection action"
      ]
    },
    {
      "cell_type": "code",
      "execution_count": null,
      "id": "c4feb6cc-5129-4a99-bb45-851bc07b5709",
      "metadata": {
        "height": 421,
        "id": "c4feb6cc-5129-4a99-bb45-851bc07b5709"
      },
      "outputs": [],
      "source": [
        "def query(question, max_turns=5):\n",
        "    i = 0\n",
        "    bot = Agent(prompt)\n",
        "    next_prompt = question\n",
        "    while i < max_turns:\n",
        "        i += 1\n",
        "        result = bot(next_prompt)\n",
        "        print(result)\n",
        "        actions = [\n",
        "            action_re.match(a)\n",
        "            for a in result.split('\\n')\n",
        "            if action_re.match(a)\n",
        "        ]\n",
        "        if actions:\n",
        "            # There is an action to run\n",
        "            action, action_input = actions[0].groups()\n",
        "            if action not in known_actions:\n",
        "                raise Exception(\"Unknown action: {}: {}\".format(action, action_input))\n",
        "            print(\" -- running {} {}\".format(action, action_input))\n",
        "            observation = known_actions[action](action_input)\n",
        "            print(\"Observation:\", observation)\n",
        "            next_prompt = \"Observation: {}\".format(observation)\n",
        "        else:\n",
        "            return"
      ]
    },
    {
      "cell_type": "code",
      "execution_count": null,
      "id": "e85a02b4-96cc-4b01-8792-397a774eb499",
      "metadata": {
        "colab": {
          "base_uri": "https://localhost:8080/"
        },
        "executionInfo": {
          "elapsed": 4332,
          "status": "ok",
          "timestamp": 1745856781540,
          "user": {
            "displayName": "Juanan Pereira",
            "userId": "15113572282444505828"
          },
          "user_tz": -120
        },
        "height": 64,
        "id": "e85a02b4-96cc-4b01-8792-397a774eb499",
        "outputId": "a4632b7d-b068-4cda-cfa0-37dcd745aa01"
      },
      "outputs": [
        {
          "name": "stdout",
          "output_type": "stream",
          "text": [
            "Thought: I need to find the average weight of both a Border Collie and a Scottish Terrier, then add them together to find their combined weight.\n",
            "Action: average_dog_weight: Border Collie\n",
            "PAUSE\n",
            " -- running average_dog_weight Border Collie\n",
            "Observation: a Border Collies average weight is 16 kg\n",
            "Action: average_dog_weight: Scottish Terrier\n",
            "PAUSE\n",
            " -- running average_dog_weight Scottish Terrier\n",
            "Observation: Scottish Terriers average 9 kg\n",
            "Action: calculate: 16 + 9\n",
            "PAUSE\n",
            " -- running calculate 16 + 9\n",
            "Observation: 25\n",
            "Answer: The combined average weight of a Border Collie and a Scottish Terrier is 25 kg.\n"
          ]
        }
      ],
      "source": [
        "question = \"\"\"I have 2 dogs, a border collie and a scottish terrier. \\\n",
        "What is their combined weight\"\"\"\n",
        "query(question)"
      ]
    },
    {
      "cell_type": "code",
      "execution_count": null,
      "id": "ae8b86a6-5e20-4252-b1d8-009b8318345a",
      "metadata": {
        "height": 30,
        "id": "ae8b86a6-5e20-4252-b1d8-009b8318345a"
      },
      "outputs": [],
      "source": []
    },
    {
      "cell_type": "code",
      "execution_count": null,
      "id": "af925917-b746-48c9-ac74-62fefbe5246c",
      "metadata": {
        "height": 30,
        "id": "af925917-b746-48c9-ac74-62fefbe5246c"
      },
      "outputs": [],
      "source": []
    }
  ],
  "metadata": {
    "colab": {
      "provenance": []
    },
    "kernelspec": {
      "display_name": "Python 3",
      "language": "python",
      "name": "python3"
    },
    "language_info": {
      "codemirror_mode": {
        "name": "ipython",
        "version": 3
      },
      "file_extension": ".py",
      "mimetype": "text/x-python",
      "name": "python",
      "nbconvert_exporter": "python",
      "pygments_lexer": "ipython3",
      "version": "3.11.0"
    }
  },
  "nbformat": 4,
  "nbformat_minor": 5
}
